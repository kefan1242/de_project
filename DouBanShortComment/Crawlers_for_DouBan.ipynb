{
  "nbformat": 4,
  "nbformat_minor": 0,
  "metadata": {
    "colab": {
      "provenance": []
    },
    "kernelspec": {
      "name": "python3",
      "display_name": "Python 3"
    },
    "language_info": {
      "name": "python"
    }
  },
  "cells": [
    {
      "cell_type": "code",
      "execution_count": null,
      "metadata": {
        "id": "vMl3fg3edZBJ"
      },
      "outputs": [],
      "source": [
        "import requests\n",
        "from pyquery import PyQuery as pq\n",
        "import time\n",
        "import random\n",
        "\n",
        "# 定义代理列表（可扩展）\n",
        "proxies = [\n",
        "    {'http': 'http://111.111.111.111:8080', 'https': 'http://111.111.111.111:8080'},\n",
        "    {'http': 'http://222.222.222.222:8080', 'https': 'http://222.222.222.222:8080'},\n",
        "    # 添加更多代理...\n",
        "]\n",
        "\n",
        "# 请求头设置\n",
        "headers = {\n",
        "    'User-Agent': 'Mozilla/5.0 (Windows NT 10.0; Win64; x64) AppleWebKit/537.36 (KHTML, like Gecko) Chrome/58.0.3029.110 Safari/537.3',\n",
        "    'Accept-Language': 'zh-CN,zh;q=0.9',\n",
        "}\n",
        "\n",
        "# 爬取电影评论的函数\n",
        "def fetch_comments(movie_id, movie_name_en, movie_name_cn, max_pages=5):\n",
        "    comments = []\n",
        "    comment_id = 0\n",
        "\n",
        "    for page in range(max_pages):\n",
        "        start = page * 20\n",
        "        url = f'https://movie.douban.com/subject/{movie_id}/comments?start={start}'\n",
        "        response = requests.get(url, headers=headers, proxies=random.choice(proxies))\n",
        "\n",
        "        if response.status_code == 200:\n",
        "            doc = pq(response.text)\n",
        "            comment_items = doc(\".comment-item\")\n",
        "\n",
        "            for item in comment_items.items():\n",
        "                comment_data = {}\n",
        "                comment_data['ID'] = comment_id\n",
        "                comment_data['Movie_Name_EN'] = movie_name_en\n",
        "                comment_data['Movie_Name_CN'] = movie_name_cn\n",
        "                comment_data['Crawl_Date'] = time.strftime(\"%Y-%m-%d\", time.localtime())\n",
        "                comment_data['Number'] = item.attr(\"data-id\")\n",
        "                comment_data['Username'] = item.find(\".comment-info a\").text()\n",
        "                comment_data['Date'] = item.find(\".comment-time\").text().strip()\n",
        "                stars_class = item.find(\".comment-info .rating\").attr(\"class\")\n",
        "                if stars_class:\n",
        "                    comment_data['Star'] = int(stars_class.split(\"allstar\")[-1][0])\n",
        "                else:\n",
        "                    comment_data['Star'] = None\n",
        "                comment_data['Comment'] = item.find(\".short\").text()\n",
        "                comment_data['Like'] = int(item.find(\".vote-count\").text() or 0)\n",
        "\n",
        "                comments.append(comment_data)\n",
        "                comment_id += 1\n",
        "\n",
        "            # 随机延迟以防反爬虫机制\n",
        "            time.sleep(random.uniform(1, 3))\n",
        "\n",
        "        else:\n",
        "            print(f\"请求失败，状态码：{response.status_code}\")\n",
        "            break\n",
        "\n",
        "    return comments\n",
        "\n",
        "if __name__ == \"__main__\":\n",
        "    movie_id = '10741834'  # 豆瓣电影ID\n",
        "    movie_name_en = 'Avengers: Age of Ultron'  # 英文电影名称\n",
        "    movie_name_cn = '复仇者联盟2：奥创纪元'  # 中文电影名称\n",
        "    comments = fetch_comments(movie_id, movie_name_en, movie_name_cn, max_pages=5)\n",
        "    for comment in comments:\n",
        "        print(comment)\n"
      ]
    }
  ]
}